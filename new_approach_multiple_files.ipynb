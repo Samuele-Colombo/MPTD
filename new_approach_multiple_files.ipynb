{
 "cells": [
  {
   "cell_type": "code",
   "execution_count": 1,
   "metadata": {},
   "outputs": [],
   "source": [
    "import os.path as osp\n",
    "\n",
    "import numpy as np\n",
    "import pandas as pd\n",
    "from matplotlib import pyplot as plt\n",
    "\n",
    "import torch\n",
    "from sklearn.cluster import DBSCAN\n",
    "from torch_geometric.data import Data\n",
    "import torch_geometric.transforms as ttr\n",
    "from astropy import table as astropy_table\n",
    "\n",
    "from mptd.reader import get_raw_data\n",
    "from mptd.simple_message import SimpleMessage\n",
    "from mptd.plotter import plot_data, plot_clusters, plot_fits_data\n",
    "from mptd.smallest_enclosing_circle import welzl\n"
   ]
  },
  {
   "cell_type": "code",
   "execution_count": null,
   "metadata": {},
   "outputs": [],
   "source": [
    "from typing import Any\n",
    "\n",
    "\n",
    "class MPTDData(Data):\n",
    "    def __init__(self, x = None, edge_index = None, edge_attr = None, y = None, pos = None, **kwargs):\n",
    "        assert x is None\n",
    "        super().__init__(x, edge_index, edge_attr, y, pos, **kwargs)\n",
    "\n",
    "    @property\n",
    "    def x(self):\n",
    "        return self.pos\n",
    "    \n",
    "    def append(self, other):\n",
    "        new_edge_index = torch.hstack([self.edge_index, other.edge_index]) \\\n",
    "                         if other.edge_index is not None and self.edge_index is not None else None\n",
    "        new_edge_attr = torch.hstack([self.edge_attr, other.edge_attr]) \\\n",
    "                        if other.edge_attr is not None and self.edge_attr is not None else None\n",
    "        \n",
    "        return MPTDData(x=torch.vstack([self.x, other.x]), \n",
    "                        y=torch.hstack([self.y, other.y]), \n",
    "                        pos=torch.vstack([self.y, other.y]), \n",
    "                        edge_index=new_edge_index,\n",
    "                        edge_attr=new_edge_attr\n",
    "                        )    \n",
    " \n",
    "    def getsplice(self, index):\n",
    "        y = self.y[index] if self.y is not None else None\n",
    "        pos = self.pos[index] if self.pos is not None else None\n",
    "\n",
    "        return MPTDData(y=y, pos=pos)\n",
    "    \n",
    "    def __len__(self):\n",
    "        if self.y is not None:\n",
    "            return self.y.size(0)\n",
    "        else:\n",
    "            raise ValueError(\"The data object has no valid tensor for indexing.\")   \n",
    "\n",
    "class MPTDDataset:\n",
    "    def __init__(self, filenames, keys, filters:dict, withsim=True) -> None:\n",
    "        if type(filenames) is str:\n",
    "            filenames = [filenames]\n",
    "        filename = filenames[0]\n",
    "        ismos = filename.endswith(\"MIEVLF0000.FTZ\") or filename.endswith(\"MIEVLI0000.FTZ\")\n",
    "        lastcolname = \"PHA\" if ismos else \"TIME_RAW\"\n",
    "        keys_plus = keys + [lastcolname]\n",
    "        raw_data = get_raw_data(filename, keys_plus, filters)\n",
    "        for filename in filenames[1:]:\n",
    "            ismos = filename.endswith(\"MIEVLF0000.FTZ\") or filename.endswith(\"MIEVLI0000.FTZ\")\n",
    "            lastcolname = \"PHA\" if ismos else \"TIME_RAW\"\n",
    "            keys_plus = keys + [lastcolname]\n",
    "            raw_data = astropy_table.vstack([raw_data, get_raw_data(filename, keys_plus, filters)])\n",
    "\n",
    "        issimulated = torch.from_numpy(np.array(raw_data[\"ISSIMULATED\"])).bool()\n",
    "        self.groups = torch.from_numpy(np.array(raw_data[lastcolname]))\n",
    "        self.groups[~issimulated] = -1\n",
    "\n",
    "        if withsim:\n",
    "            self.data = MPTDData(pos = torch.from_numpy(np.array([raw_data[key] for key in keys]).T).float(),\n",
    "                                 y = issimulated.long()).cuda()\n",
    "        else:\n",
    "            self.data = MPTDData(pos = torch.from_numpy(np.array([raw_data[key] for key in keys]).T[~issimulated]).float(),\n",
    "                                 y = issimulated[~issimulated].long()).cuda()\n",
    "            \n",
    "        self.keys = keys\n",
    "\n",
    "    def get_group(self, group):\n",
    "        indices = self.groups == group\n",
    "        return self.data.pos[indices]\n",
    "    \n",
    "    def list_groups(self):\n",
    "        return torch.unique(self.groups)\n",
    "\n",
    "class MPTDElaborator:\n",
    "    def __init__(self, dataset:MPTDDataset, transformer, keys, model) -> None:\n",
    "        self.dataset = dataset\n",
    "        self.net_data = transformer(dataset.data)\n",
    "        self.keys = keys\n",
    "        self.model = model\n",
    "        self.iterations = 0\n",
    "        self.elaborated_data = torch.ones_like(self.net_data.x[:, 0].unsqueeze(-1))#torch.ones((1, self.net_data.x.shape[0]), device=self.net_data.x.device)\n",
    "\n",
    "    def sizes(self):\n",
    "        return self.elaborated_data.squeeze()\n",
    "    \n",
    "    def distances(self):\n",
    "        return torch.norm(self.net_data.pos[self.net_data.edge_index[0]] - self.net_data.pos[self.net_data.edge_index[1]], dim=1)\n",
    "    \n",
    "    def forward(self, iterations=1):\n",
    "        for _ in range(iterations):\n",
    "            self.elaborated_data += self.model.forward(self.elaborated_data, self.net_data.edge_index)\n",
    "            self.iterations += 1\n",
    "            self.elaborated_data /= self.elaborated_data.max()\n",
    "        return self.sizes()\n",
    "    \n",
    "    def forward_plot(self, iterations, plot_every=1, plot_after = 0, max_threshold=0.5):\n",
    "        sizes = self.forward(iterations=plot_after)\n",
    "        # threshold = torch.quantile(sizes, quantile).item()\n",
    "        threshold = min(sizes.mean().item(), max_threshold)\n",
    "        mask = sizes >= threshold\n",
    "        while self.iterations < iterations:\n",
    "            plot_data(self.net_data.pos[mask].cpu(), sizes[mask].cpu(), issimulated=self.net_data.y[mask].cpu().bool(), \n",
    "                      keys=self.keys, title=f\"iteration {self.iterations}\", \n",
    "                      outfile=osp.join(\"video_frames\", f\"frame_{self.iterations:02}.png\"))\n",
    "            sizes = self.forward(iterations=min(iterations - self.iterations, plot_every))\n",
    "            # threshold = torch.quantile(sizes, quantile).item()\n",
    "            threshold = min(sizes.mean().item(), max_threshold)\n",
    "            mask = sizes >= threshold\n",
    "        \n",
    "        plot_data(self.net_data.pos[mask].cpu(), sizes[mask].cpu(), issimulated=self.net_data.y[mask].cpu().bool(), \n",
    "                  keys=self.keys, title=f\"iteration {self.iterations}\", \n",
    "                  outfile=osp.join(\"video_frames\", f\"frame_{self.iterations:02}.png\"))\n",
    "\n",
    "        return sizes\n",
    "\n",
    "class MPTDClusterer:\n",
    "    def __init__(self, algorithm, max_threshold):\n",
    "        self.max_threshold = max_threshold\n",
    "        self.algorithm = algorithm\n",
    "\n",
    "    def mask(self, elaborator:MPTDElaborator):\n",
    "        sizes = elaborator.sizes()\n",
    "        threshold = min(sizes.mean().item(), self.max_threshold)\n",
    "        mask = sizes >= threshold\n",
    "        return mask\n",
    "\n",
    "    def mask_data(self, elaborator:MPTDElaborator):\n",
    "        mask = self.mask(elaborator)\n",
    "        masked_data = elaborator.net_data.getsplice(mask).cpu()\n",
    "        return masked_data\n",
    "    \n",
    "    def cluster(self, elaborator:MPTDElaborator):\n",
    "        mask = self.mask(elaborator)\n",
    "        masked_data = elaborator.net_data.getsplice(mask).cpu()\n",
    "        labels = self.algorithm.fit_predict(masked_data.pos)\n",
    "        labels_full = np.full((elaborator.net_data.pos.shape[0],), -1)\n",
    "        labels_full[mask.cpu()] = labels\n",
    "\n",
    "        return labels_full\n",
    "    \n",
    "class MPTDScorer:\n",
    "    def __init__(self, elaborator:MPTDElaborator):\n",
    "        self.dataset    = elaborator.dataset\n",
    "        self.elaborator = elaborator\n",
    "        self.labels = None\n",
    "\n",
    "    def predict_labels(self, clusterer:MPTDClusterer):\n",
    "        self.labels = clusterer.cluster(self.elaborator)\n",
    "        return self.labels\n",
    "    \n",
    "    def fluence_vs_success(self):\n",
    "        assert self.labels is not None\n",
    "        return count_and_check_coordinates_grouped(self.dataset.data.pos[self.dataset.data.y.cpu().bool()], self.dataset.groups[self.dataset.data.y.cpu().bool()], self.dataset.data.pos[self.labels >= 0])\n",
    "    \n",
    "    def cluster_accuracy(self):\n",
    "        assert self.labels is not None\n",
    "        return count_and_check_coordinates_grouped(self.dataset.data.pos[self.labels >= 0], self.labels[self.labels >= 0], self.dataset.data.pos[self.dataset.data.y.bool()]).T[1].float().mean()\n",
    "\n",
    "def count_and_check_coordinates(tensors_A, tensor_B):\n",
    "    # Initialize lists to store the number of points and presence information for each tensor A\n",
    "    num_points_list = []\n",
    "    contains_matching_coordinates_list = []\n",
    "\n",
    "    # Perform element-wise comparison for each tensor in tensors_A\n",
    "    for tensor_A in tensors_A:\n",
    "        # Broadcast tensor_B to have the same shape as tensor_A\n",
    "        expanded_B = tensor_B.unsqueeze(0)  # Shape: (1, B_points, 3)\n",
    "        expanded_B = expanded_B.expand(tensor_A.shape[0], -1, -1)  # Shape: (A_points, B_points, 3)\n",
    "\n",
    "        # Perform element-wise comparison to check for matching coordinates\n",
    "        matched_coordinates = torch.all(tensor_A.unsqueeze(1) == expanded_B, dim=-1)\n",
    "\n",
    "        # Use torch.any() to check if any coordinate in A matches any coordinate in B for this tensor A\n",
    "        contains_matching_coordinates = torch.any(matched_coordinates, dim=1)\n",
    "\n",
    "        # Append the number of points and presence information to their respective lists\n",
    "        num_points_list.append(tensor_A.shape[0])\n",
    "        contains_matching_coordinates_list.append(contains_matching_coordinates)\n",
    "\n",
    "    # Concatenate the lists to create tensors\n",
    "    num_points_in_A = torch.tensor(num_points_list, dtype=torch.int32).unsqueeze(-1)\n",
    "\n",
    "    contains_matching_coordinates_tensor = torch.tensor([elems.any(dim=-1) for elems in contains_matching_coordinates_list], dtype=bool).unsqueeze(1)\n",
    "\n",
    "    # Combine the information about the number of points and matching coordinates into a single tensor\n",
    "    result_tensor = torch.cat((num_points_in_A, contains_matching_coordinates_tensor.int()), dim=1)\n",
    "\n",
    "    return result_tensor\n",
    "\n",
    "def count_and_check_coordinates_grouped(tensor_coordinates, labels, tensor_B):\n",
    "    unique_labels = np.unique(labels)\n",
    "    tensors_A = []\n",
    "\n",
    "    for label in unique_labels:\n",
    "        # Get the coordinates for the current label\n",
    "        mask = labels == label\n",
    "        coordinates_for_label = tensor_coordinates[mask]\n",
    "\n",
    "        # Append the tensor with coordinates for this label to the list of tensors A\n",
    "        tensors_A.append(coordinates_for_label)\n",
    "\n",
    "    # Apply the function for each tensor in tensors_A and store the results in a list\n",
    "    results = count_and_check_coordinates(tensors_A, tensor_B)\n",
    "\n",
    "    return results"
   ]
  },
  {
   "cell_type": "code",
   "execution_count": null,
   "metadata": {},
   "outputs": [],
   "source": [
    "def find_common_parts(strings):\n",
    "    if not strings:\n",
    "        return \"\"\n",
    "\n",
    "    common_parts = \"\"\n",
    "    for chars_at_position in zip(*strings):\n",
    "        if all(char == chars_at_position[0] for char in chars_at_position):\n",
    "            common_parts += chars_at_position[0]\n",
    "\n",
    "    return common_parts"
   ]
  },
  {
   "cell_type": "code",
   "execution_count": null,
   "metadata": {},
   "outputs": [],
   "source": [
    "def single_file_analysis(filenames, keys, k, layers, quantile, max_threshold, filters, min_samples, withsim=True):\n",
    "    dataset = MPTDDataset(filenames, keys, filters, withsim=withsim)\n",
    "    transformer = ttr.KNNGraph(k=k, force_undirected=True)\n",
    "    model = SimpleMessage()\n",
    "    elaborator = MPTDElaborator(dataset,transformer,keys,model)\n",
    "    elaborator.forward(iterations=layers)\n",
    "    # elaborator.forward_plot(iterations=layers, plot_every=5, max_threshold=max_threshold)\n",
    "    # eps = elaborator.distances().median().item()/2\n",
    "    # eps = torch.quantile(elaborator.distances(), quantile).item()\n",
    "    eps = elaborator.distances().max().item()\n",
    "    dbscan = DBSCAN(eps=eps, min_samples=min_samples)\n",
    "    clusterer = MPTDClusterer(algorithm=dbscan, max_threshold=max_threshold)\n",
    "    scorer = MPTDScorer(elaborator)\n",
    "    labels = scorer.predict_labels(clusterer)\n",
    "    for group in np.unique(scorer.labels):\n",
    "        if group < 0: continue\n",
    "        mask = scorer.labels == group\n",
    "        group_times = scorer.elaborator.dataset.data.pos[mask, 2].cpu()\n",
    "        time_interval = group_times.max() - group_times.min()\n",
    "        if time_interval > 10_000:\n",
    "            #print(f\"removed group {group}\")\n",
    "            scorer.labels[mask] = -1\n",
    "\n",
    "    df = pd.DataFrame(scorer.fluence_vs_success().float(), columns=[\"Fluence\", \"Detected\"])\n",
    "    if type(filenames) is str:\n",
    "        pass\n",
    "    elif len(filenames) == 1:\n",
    "        filenames = filenames[0]\n",
    "    else:\n",
    "        filenames = find_common_parts(filenames)\n",
    "    df[\"File\"] = np.full_like(df[\"Fluence\"], filenames, dtype=str)\n",
    "    df[\"Accuracy\"] = np.full_like(df[\"Fluence\"], scorer.cluster_accuracy())\n",
    "    return df"
   ]
  },
  {
   "cell_type": "code",
   "execution_count": null,
   "metadata": {},
   "outputs": [],
   "source": [
    "keys = [\"X\", \"TIME\", \"Y\"]\n",
    "k = 8\n",
    "layers = 50\n",
    "quantile = 0.999\n",
    "max_threshold = 0.90\n",
    "filters = {\"FLAG\": (0,4)}\n",
    "withsim = True\n",
    "min_samples = 5"
   ]
  },
  {
   "cell_type": "code",
   "execution_count": null,
   "metadata": {},
   "outputs": [],
   "source": [
    "import os, os.path as osp\n",
    "from glob import glob\n",
    "import random\n",
    "from tqdm import tqdm"
   ]
  },
  {
   "cell_type": "code",
   "execution_count": null,
   "metadata": {},
   "outputs": [],
   "source": [
    "n = 100\n",
    "# Set a fixed seed for replicability\n",
    "seed_value = 42\n",
    "random.seed(seed_value)\n",
    "basedir = osp.join(\"test.onD\", \"Icaro\", \"raw\")\n",
    "filenames = glob(osp.join(basedir, \"0*\", \"pps\", \"P*EVLF0000.FTZ\"))\n",
    "filenames = random.sample(filenames, n)"
   ]
  },
  {
   "cell_type": "code",
   "execution_count": null,
   "metadata": {},
   "outputs": [],
   "source": [
    "df = pd.DataFrame()\n",
    "for filename in tqdm(filenames):\n",
    "    res = single_file_analysis(filename, keys, k, layers, quantile, max_threshold, filters, min_samples, withsim)\n",
    "    df = pd.concat([df, res])"
   ]
  },
  {
   "cell_type": "code",
   "execution_count": null,
   "metadata": {},
   "outputs": [],
   "source": [
    "df.to_csv(\"prima_prova.csv\")"
   ]
  },
  {
   "cell_type": "code",
   "execution_count": 3,
   "metadata": {},
   "outputs": [],
   "source": [
    "df = pd.read_csv(\"prima_prova.csv\")"
   ]
  },
  {
   "cell_type": "code",
   "execution_count": 19,
   "metadata": {},
   "outputs": [
    {
     "data": {
      "text/plain": [
       "array(['t'], dtype=object)"
      ]
     },
     "execution_count": 19,
     "metadata": {},
     "output_type": "execute_result"
    }
   ],
   "source": [
    "df[\"File\"].unique()"
   ]
  },
  {
   "cell_type": "code",
   "execution_count": 18,
   "metadata": {},
   "outputs": [
    {
     "data": {
      "text/html": [
       "<div>\n",
       "<style scoped>\n",
       "    .dataframe tbody tr th:only-of-type {\n",
       "        vertical-align: middle;\n",
       "    }\n",
       "\n",
       "    .dataframe tbody tr th {\n",
       "        vertical-align: top;\n",
       "    }\n",
       "\n",
       "    .dataframe thead th {\n",
       "        text-align: right;\n",
       "    }\n",
       "</style>\n",
       "<table border=\"1\" class=\"dataframe\">\n",
       "  <thead>\n",
       "    <tr style=\"text-align: right;\">\n",
       "      <th></th>\n",
       "      <th>Unnamed: 0</th>\n",
       "      <th>Fluence</th>\n",
       "      <th>Detected</th>\n",
       "      <th>Accuracy</th>\n",
       "    </tr>\n",
       "    <tr>\n",
       "      <th>File</th>\n",
       "      <th></th>\n",
       "      <th></th>\n",
       "      <th></th>\n",
       "      <th></th>\n",
       "    </tr>\n",
       "  </thead>\n",
       "  <tbody>\n",
       "    <tr>\n",
       "      <th>t</th>\n",
       "      <td>0</td>\n",
       "      <td>1.0</td>\n",
       "      <td>0.0</td>\n",
       "      <td>1.0</td>\n",
       "    </tr>\n",
       "  </tbody>\n",
       "</table>\n",
       "</div>"
      ],
      "text/plain": [
       "      Unnamed: 0  Fluence  Detected  Accuracy\n",
       "File                                         \n",
       "t              0      1.0       0.0       1.0"
      ]
     },
     "execution_count": 18,
     "metadata": {},
     "output_type": "execute_result"
    }
   ],
   "source": [
    "df.groupby(\"File\").first()#[\"Accuracy\"].mean()*100"
   ]
  },
  {
   "cell_type": "code",
   "execution_count": 25,
   "metadata": {},
   "outputs": [
    {
     "data": {
      "image/png": "[encoded data removed]",
      "text/plain": [
       "<Figure size 1200x600 with 1 Axes>"
      ]
     },
     "metadata": {},
     "output_type": "display_data"
    }
   ],
   "source": [
    "bins = pd.qcut(df.index, q=10)\n",
    "\n",
    "mean_values = df[\"Detected\"].groupby(bins).mean()\n",
    "\n",
    "mean_values.plot(figsize=(12,6))\n",
    "plt.xlabel('Fluence')\n",
    "plt.ylabel('Detection Fraction')\n",
    "plt.title('Detection Fraction vs. Fluence')#\\nCluster accuracy: {:.2f}%'.format(df.groupby(\"File\").first()[\"Accuracy\"].mean()*100))\n",
    "plt.show()\n"
   ]
  },
  {
   "cell_type": "code",
   "execution_count": 5,
   "metadata": {},
   "outputs": [
    {
     "data": {
      "text/plain": [
       "<Axes: ylabel='Frequency'>"
      ]
     },
     "execution_count": 5,
     "metadata": {},
     "output_type": "execute_result"
    },
    {
     "data": {
      "image/png": "[encoded data removed]",
      "text/plain": [
       "<Figure size 640x480 with 1 Axes>"
      ]
     },
     "metadata": {},
     "output_type": "display_data"
    }
   ],
   "source": [
    "df.groupby(\"Fluence\", axis=\"rows\")[\"Fluence\"].mean().reset_index().plot(kind=\"hist\", x=\"Fluence\", y=\"Detected\")"
   ]
  },
  {
   "cell_type": "code",
   "execution_count": null,
   "metadata": {},
   "outputs": [],
   "source": [
    "df.groupby(\"File\", axis=\"rows\")[\"Accuracy\"].first().hist()"
   ]
  },
  {
   "cell_type": "code",
   "execution_count": null,
   "metadata": {},
   "outputs": [],
   "source": []
  }
 ],
 "metadata": {
  "kernelspec": {
   "display_name": "Python 3",
   "language": "python",
   "name": "python3"
  },
  "language_info": {
   "codemirror_mode": {
    "name": "ipython",
    "version": 3
   },
   "file_extension": ".py",
   "mimetype": "text/x-python",
   "name": "python",
   "nbconvert_exporter": "python",
   "pygments_lexer": "ipython3",
   "version": "3.11.3"
  },
  "orig_nbformat": 4
 },
 "nbformat": 4,
 "nbformat_minor": 2
}
