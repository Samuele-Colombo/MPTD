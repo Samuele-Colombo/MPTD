{
 "cells": [
  {
   "cell_type": "code",
   "execution_count": 1,
   "metadata": {},
   "outputs": [
    {
     "name": "stderr",
     "output_type": "stream",
     "text": [
      " 23%|██▎       | 3172/13539 [06:15<56:29,  3.06it/s]  "
     ]
    },
    {
     "ename": "OSError",
     "evalue": "[Errno 28] No space left on device",
     "output_type": "error",
     "traceback": [
      "\u001b[1;31m---------------------------------------------------------------------------\u001b[0m",
      "\u001b[1;31mOSError\u001b[0m                                   Traceback (most recent call last)",
      "Cell \u001b[1;32mIn[1], line 42\u001b[0m\n\u001b[0;32m     40\u001b[0m n_files \u001b[39m=\u001b[39m count_files_in_dir(src_folder)\n\u001b[0;32m     41\u001b[0m progress_bar \u001b[39m=\u001b[39m tqdm(total\u001b[39m=\u001b[39mn_files)\n\u001b[1;32m---> 42\u001b[0m copy_directory_except_group(src_folder, dst_folder, progress_bar\u001b[39m=\u001b[39;49mprogress_bar)\n",
      "Cell \u001b[1;32mIn[1], line 25\u001b[0m, in \u001b[0;36mcopy_directory_except_group\u001b[1;34m(src, dst, progress_bar)\u001b[0m\n\u001b[0;32m     23\u001b[0m d \u001b[39m=\u001b[39m os\u001b[39m.\u001b[39mpath\u001b[39m.\u001b[39mjoin(dst, item)\n\u001b[0;32m     24\u001b[0m \u001b[39mif\u001b[39;00m os\u001b[39m.\u001b[39mpath\u001b[39m.\u001b[39misdir(s):\n\u001b[1;32m---> 25\u001b[0m     copy_directory_except_group(s, d, progress_bar)\n\u001b[0;32m     26\u001b[0m \u001b[39melse\u001b[39;00m:\n\u001b[0;32m     27\u001b[0m     \u001b[39mif\u001b[39;00m \u001b[39mnot\u001b[39;00m item\u001b[39m.\u001b[39mstartswith(\u001b[39m'\u001b[39m\u001b[39mgroup\u001b[39m\u001b[39m'\u001b[39m):\n",
      "Cell \u001b[1;32mIn[1], line 25\u001b[0m, in \u001b[0;36mcopy_directory_except_group\u001b[1;34m(src, dst, progress_bar)\u001b[0m\n\u001b[0;32m     23\u001b[0m d \u001b[39m=\u001b[39m os\u001b[39m.\u001b[39mpath\u001b[39m.\u001b[39mjoin(dst, item)\n\u001b[0;32m     24\u001b[0m \u001b[39mif\u001b[39;00m os\u001b[39m.\u001b[39mpath\u001b[39m.\u001b[39misdir(s):\n\u001b[1;32m---> 25\u001b[0m     copy_directory_except_group(s, d, progress_bar)\n\u001b[0;32m     26\u001b[0m \u001b[39melse\u001b[39;00m:\n\u001b[0;32m     27\u001b[0m     \u001b[39mif\u001b[39;00m \u001b[39mnot\u001b[39;00m item\u001b[39m.\u001b[39mstartswith(\u001b[39m'\u001b[39m\u001b[39mgroup\u001b[39m\u001b[39m'\u001b[39m):\n",
      "Cell \u001b[1;32mIn[1], line 28\u001b[0m, in \u001b[0;36mcopy_directory_except_group\u001b[1;34m(src, dst, progress_bar)\u001b[0m\n\u001b[0;32m     26\u001b[0m \u001b[39melse\u001b[39;00m:\n\u001b[0;32m     27\u001b[0m     \u001b[39mif\u001b[39;00m \u001b[39mnot\u001b[39;00m item\u001b[39m.\u001b[39mstartswith(\u001b[39m'\u001b[39m\u001b[39mgroup\u001b[39m\u001b[39m'\u001b[39m):\n\u001b[1;32m---> 28\u001b[0m         shutil\u001b[39m.\u001b[39;49mcopy2(s, d)\n\u001b[0;32m     29\u001b[0m         progress_bar\u001b[39m.\u001b[39mupdate()\n",
      "File \u001b[1;32mc:\\Users\\samuc\\miniconda3\\envs\\mptd\\Lib\\shutil.py:436\u001b[0m, in \u001b[0;36mcopy2\u001b[1;34m(src, dst, follow_symlinks)\u001b[0m\n\u001b[0;32m    434\u001b[0m \u001b[39mif\u001b[39;00m os\u001b[39m.\u001b[39mpath\u001b[39m.\u001b[39misdir(dst):\n\u001b[0;32m    435\u001b[0m     dst \u001b[39m=\u001b[39m os\u001b[39m.\u001b[39mpath\u001b[39m.\u001b[39mjoin(dst, os\u001b[39m.\u001b[39mpath\u001b[39m.\u001b[39mbasename(src))\n\u001b[1;32m--> 436\u001b[0m copyfile(src, dst, follow_symlinks\u001b[39m=\u001b[39;49mfollow_symlinks)\n\u001b[0;32m    437\u001b[0m copystat(src, dst, follow_symlinks\u001b[39m=\u001b[39mfollow_symlinks)\n\u001b[0;32m    438\u001b[0m \u001b[39mreturn\u001b[39;00m dst\n",
      "File \u001b[1;32mc:\\Users\\samuc\\miniconda3\\envs\\mptd\\Lib\\shutil.py:276\u001b[0m, in \u001b[0;36mcopyfile\u001b[1;34m(src, dst, follow_symlinks)\u001b[0m\n\u001b[0;32m    273\u001b[0m \u001b[39m# Windows, see:\u001b[39;00m\n\u001b[0;32m    274\u001b[0m \u001b[39m# https://github.com/python/cpython/pull/7160#discussion_r195405230\u001b[39;00m\n\u001b[0;32m    275\u001b[0m \u001b[39melif\u001b[39;00m _WINDOWS \u001b[39mand\u001b[39;00m file_size \u001b[39m>\u001b[39m \u001b[39m0\u001b[39m:\n\u001b[1;32m--> 276\u001b[0m     _copyfileobj_readinto(fsrc, fdst, \u001b[39mmin\u001b[39;49m(file_size, COPY_BUFSIZE))\n\u001b[0;32m    277\u001b[0m     \u001b[39mreturn\u001b[39;00m dst\n\u001b[0;32m    279\u001b[0m copyfileobj(fsrc, fdst)\n",
      "File \u001b[1;32mc:\\Users\\samuc\\miniconda3\\envs\\mptd\\Lib\\shutil.py:187\u001b[0m, in \u001b[0;36m_copyfileobj_readinto\u001b[1;34m(fsrc, fdst, length)\u001b[0m\n\u001b[0;32m    185\u001b[0m         fdst\u001b[39m.\u001b[39mwrite(smv)\n\u001b[0;32m    186\u001b[0m \u001b[39melse\u001b[39;00m:\n\u001b[1;32m--> 187\u001b[0m     fdst_write(mv)\n",
      "\u001b[1;31mOSError\u001b[0m: [Errno 28] No space left on device"
     ]
    }
   ],
   "source": [
    "import os\n",
    "import shutil\n",
    "from tqdm import tqdm\n",
    "\n",
    "# Patch the shutil.copyfileobj to improve copy speed\n",
    "def _copyfileobj_patched(fsrc, fdst, length=16*1024*1024):\n",
    "    \"\"\"Patches shutil method to hugely improve copy speed.\"\"\"\n",
    "    while True:\n",
    "        buf = fsrc.read(length)\n",
    "        if not buf:\n",
    "            break\n",
    "        fdst.write(buf)\n",
    "\n",
    "# Replace the original shutil.copyfileobj with the patched one\n",
    "shutil.copyfileobj = _copyfileobj_patched\n",
    "\n",
    "def copy_directory_except_group(src, dst, progress_bar):\n",
    "    \"\"\"Copy directory except files starting with group.\"\"\"\n",
    "    if not os.path.exists(dst):\n",
    "        os.makedirs(dst)\n",
    "    for item in os.listdir(src):\n",
    "        s = os.path.join(src, item)\n",
    "        d = os.path.join(dst, item)\n",
    "        if os.path.isdir(s):\n",
    "            copy_directory_except_group(s, d, progress_bar)\n",
    "        else:\n",
    "            if not item.startswith('group'):\n",
    "                shutil.copy2(s, d)\n",
    "                progress_bar.update()\n",
    "\n",
    "def count_files_in_dir(dir_path):\n",
    "    file_count = 0\n",
    "    for root, dirs, files in os.walk(dir_path):\n",
    "        files = [file for file in files if not file.startswith(\"group\")]\n",
    "        file_count += len(files)\n",
    "    return file_count\n",
    "\n",
    "src_folder = 'test.onD/Icaro/raw'\n",
    "dst_folder = 'test/Icaro/raw'\n",
    "n_files = count_files_in_dir(src_folder)\n",
    "progress_bar = tqdm(total=n_files)\n",
    "copy_directory_except_group(src_folder, dst_folder, progress_bar=progress_bar)\n"
   ]
  },
  {
   "cell_type": "code",
   "execution_count": null,
   "metadata": {},
   "outputs": [],
   "source": []
  }
 ],
 "metadata": {
  "kernelspec": {
   "display_name": "mptd",
   "language": "python",
   "name": "python3"
  },
  "language_info": {
   "codemirror_mode": {
    "name": "ipython",
    "version": 3
   },
   "file_extension": ".py",
   "mimetype": "text/x-python",
   "name": "python",
   "nbconvert_exporter": "python",
   "pygments_lexer": "ipython3",
   "version": "3.11.4"
  },
  "orig_nbformat": 4
 },
 "nbformat": 4,
 "nbformat_minor": 2
}
